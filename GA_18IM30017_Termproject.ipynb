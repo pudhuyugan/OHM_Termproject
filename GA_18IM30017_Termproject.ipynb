{
 "cells": [
  {
   "cell_type": "markdown",
   "metadata": {},
   "source": [
    "Author: Pudhuyugan"
   ]
  },
  {
   "cell_type": "markdown",
   "metadata": {},
   "source": [
    "Roll no: 18IM30017"
   ]
  },
  {
   "cell_type": "markdown",
   "metadata": {},
   "source": [
    "GA Algorithm to optimize bank lending decisions"
   ]
  },
  {
   "cell_type": "code",
   "execution_count": 1,
   "metadata": {},
   "outputs": [],
   "source": [
    "import numpy as np"
   ]
  },
  {
   "cell_type": "code",
   "execution_count": 2,
   "metadata": {},
   "outputs": [],
   "source": [
    "# defining the fitness function \n",
    "\n",
    "def fitnessvalue(rl,l,lamda,K,D,ch):\n",
    "    a=np.sum(ch*rl*lamda,axis=1)-np.sum(ch*lamda,axis=1)\n",
    "    b=np.sum(((1-K)*D-l)*ch*0.01,axis=1)\n",
    "    c=0.009*D\n",
    "    d=np.sum(ch*lamda,axis=1)\n",
    "    fit=a+b-c-d\n",
    "    return fit\n",
    "    \n",
    "    \n",
    "    \n",
    "    "
   ]
  },
  {
   "cell_type": "code",
   "execution_count": 3,
   "metadata": {},
   "outputs": [],
   "source": [
    "# initializing the variables \n",
    "D=60\n",
    "K=0.15\n",
    "l=np.array([10,25,4,11,18,3,17,15,9,10])\n",
    "rl=np.array([0.021,0.022,0.021,0.027,0.025,0.026,0.023,0.021,0.028,0.022])\n",
    "lamda=np.array([0.0002,0.0058,0.0001,0.0003,0.0024,0.0002,0.0058,0.0002,0.001,0.001])\n",
    "n=60\n",
    "cr=0.8\n",
    "mr=0.006\n",
    "n_iter=200"
   ]
  },
  {
   "cell_type": "code",
   "execution_count": 4,
   "metadata": {},
   "outputs": [],
   "source": [
    "# main function\n",
    "ch=[]\n",
    "f=[]\n",
    "for i in range(n):\n",
    "     ch.append(np.random.randint(2, size=10))\n",
    "for i in range(n_iter): \n",
    "    fit=fitnessvalue(rl,l,lamda,K,D,ch)\n",
    "    f.append(max(fit));\n",
    "    avg=np.mean(fit)\n",
    "    x=np.round(fit/avg)  # finding the number of each parent to choose for reproduction\n",
    "    x=x.astype(int)\n",
    "    if sum(x)>60:\n",
    "        x[0]=x[0]-(sum(x)-60)\n",
    "    else:\n",
    "        x[0]=x[0]+(60-sum(x))\n",
    "    p=[];\n",
    "    for i in range(60):\n",
    "        for j in range(x[i]):\n",
    "             p.append(ch[i])\n",
    "    child=[];\n",
    "    for k in range(0,60,2):     # doing crossover\n",
    "        a=np.random.randint(0,9)\n",
    "        rn=np.random.rand()\n",
    "        if rn<=cr:\n",
    "                b=np.concatenate((p[k][0:a],p[k+1][a:10]),axis=None)\n",
    "                c=np.concatenate((p[k+1][0:a],p[k][a:10]),axis=None)\n",
    "        else:\n",
    "                b=p[k];\n",
    "                c=p[k+1];\n",
    "        child.append(b);\n",
    "        child.append(c);\n",
    "    for i in range(60):     # doing mutation\n",
    "        for j in range(10):\n",
    "            a=np.random.rand();\n",
    "            if a<=mr:\n",
    "                if child[i][j]==1:\n",
    "                        child[i][j]=0\n",
    "                else:\n",
    "                        child[i][j]=1\n",
    "                \n",
    "    ch=child; # the child becomes the parent for the next iteration\n",
    "    \n",
    "    \n",
    "                \n",
    "    "
   ]
  },
  {
   "cell_type": "code",
   "execution_count": 5,
   "metadata": {},
   "outputs": [
    {
     "name": "stdout",
     "output_type": "stream",
     "text": [
      "[2.5715306, 2.5715306, 2.5715306, 2.5715306, 2.8967906, 2.8967906, 3.3063948, 3.3063948, 3.3063948, 3.3063948, 3.3063948, 3.3063948, 3.3063948, 3.3063948, 3.3063948, 3.3063948, 3.3063948, 3.3063948, 3.3063948, 3.3063948, 3.3063948, 3.3063948, 3.3063948, 3.0578672, 3.3063948, 3.3063948, 3.3063948, 3.3063948, 3.3063948, 3.3063948, 3.3063948, 2.9811347999999995, 3.3063948, 3.3063948, 3.3063948, 3.3063948, 3.3063948, 3.3063948, 3.3063948, 3.3063948, 3.3063948, 3.3063948, 3.3063948, 2.9811347999999995, 3.3063948, 3.3063948, 3.3063948, 3.3063948, 3.3063948, 3.3063948, 3.0578672, 3.0578672, 2.9778614, 3.0578672, 2.9778614, 3.0578672, 3.0578672, 3.3063948, 3.3063948, 3.3063948, 3.3063948, 3.3063948, 3.3063948, 3.3063948, 3.3063948, 3.3063948, 3.0578672, 3.0578672, 3.3063948, 3.3063948, 3.3063948, 3.3063948, 3.3063948, 3.3063948, 3.3063948, 3.3063948, 3.0578672, 3.3063948, 3.0578672, 3.3063948, 3.3063948, 3.0578672, 3.3063948, 3.3063948, 3.0578672, 3.3063948, 3.3063948, 3.3063948, 3.3063948, 3.3063948, 3.3063948, 3.3063948, 3.3063948, 3.3063948, 3.3063948, 3.3063948, 3.3063948, 3.3063948, 3.3063948, 3.3063948, 3.3063948, 3.3063948, 3.3063948, 3.3063948, 3.3063948, 3.3063948, 3.3063948, 3.3063948, 3.3063948, 3.3063948, 3.3063948, 3.3063948, 3.3063948, 3.3063948, 3.3063948, 3.3063948, 3.3063948, 3.3063948, 3.3063948, 3.3063948, 3.3063948, 3.3063948, 3.3063948, 3.3063948, 3.3063948, 3.3063948, 3.3063948, 3.3063948, 3.3063948, 3.3063948, 3.3063948, 3.3063948, 3.3063948, 3.3063948, 3.3063948, 3.3063948, 3.3063948, 3.3063948, 3.3063948, 3.3063948, 3.3063948, 3.3063948, 3.3063948, 3.3063948, 3.3063948, 3.3063948, 3.3063948, 3.3063948, 3.3063948, 3.3063948, 3.3063948, 3.3063948, 3.3063948, 3.3063948, 3.3063948, 3.3063948, 3.3063948, 3.3063948, 3.3063948, 3.3063948, 3.3063948, 3.3063948, 3.3063948, 3.3063948, 3.3063948, 3.3063948, 3.3063948, 3.3063948, 3.3063948, 3.3063948, 3.3063948, 3.3063948, 3.3063948, 3.3063948, 3.3063948, 3.3063948, 3.3063948, 3.3063948, 3.3063948, 3.3063948, 3.3063948, 3.3063948, 3.3063948, 3.3063948, 3.3063948, 3.3063948, 3.3063948, 3.3063948, 3.3063948, 3.3063948, 3.3063948, 3.3063948, 3.3063948, 3.3063948, 3.3063948, 3.3063948, 3.3063948, 3.3063948, 3.3063948, 3.3063948]\n"
     ]
    }
   ],
   "source": [
    "# the array below gives the maximum fitness value achieved after each iteration\n",
    "print(f)"
   ]
  },
  {
   "cell_type": "code",
   "execution_count": 6,
   "metadata": {},
   "outputs": [],
   "source": [
    "n_iter=list(range(1,201))"
   ]
  },
  {
   "cell_type": "code",
   "execution_count": 7,
   "metadata": {},
   "outputs": [
    {
     "data": {
      "text/plain": [
       "[<matplotlib.lines.Line2D at 0x7ff3d294de48>]"
      ]
     },
     "execution_count": 7,
     "metadata": {},
     "output_type": "execute_result"
    },
    {
     "data": {
      "image/png": "[encoded data removed]",
      "text/plain": [
       "<Figure size 432x288 with 1 Axes>"
      ]
     },
     "metadata": {
      "needs_background": "light"
     },
     "output_type": "display_data"
    }
   ],
   "source": [
    "# plot of how fitness changes with each iteration\n",
    "\n",
    "import matplotlib.pyplot as plt\n",
    "%matplotlib inline\n",
    "plt.plot(np.array(n_iter),np.array(f))"
   ]
  },
  {
   "cell_type": "code",
   "execution_count": 8,
   "metadata": {},
   "outputs": [
    {
     "name": "stdout",
     "output_type": "stream",
     "text": [
      "[0.5863517 0.5863517 1.3639839 0.5863517 1.8749692 2.1604253 2.2345734\n",
      " 2.5473825 2.4889587 1.3308289 3.0578672 1.9342717 1.4451789 1.2242974\n",
      " 2.2186578 2.9778614 2.5731128 2.1550848 2.1700371 1.4024109 1.6904331\n",
      " 2.5113327 2.1737047 2.0046657 2.8967906 2.6215306 2.4769885 2.7293338\n",
      " 1.9342717 2.1737047 2.2102352 2.4671854 2.9811348 2.0902342 2.2497286\n",
      " 1.7304271 1.2808277 2.4973825 2.4671854 2.578262  2.1688491 2.2531933\n",
      " 2.9778614 2.240241  2.9069867 2.290241  2.4887686 1.883393  3.3063948\n",
      " 3.3063948 3.3063948 3.3063948 3.3063948 2.5715306 2.8967906 2.8365927\n",
      " 2.8883668 2.1784609 2.1033107 2.1788539]\n"
     ]
    }
   ],
   "source": [
    "# the fitness array for final iteration\n",
    "print(fit)"
   ]
  },
  {
   "cell_type": "code",
   "execution_count": 11,
   "metadata": {},
   "outputs": [
    {
     "name": "stdout",
     "output_type": "stream",
     "text": [
      "[1 1 1 1 0 1 1 1 1 1] [1 1 1 1 1 1 1 1 1 1]\n"
     ]
    }
   ],
   "source": [
    "# the customer strings that gives the best fitness\n",
    "print(ch[52],ch[51])"
   ]
  },
  {
   "cell_type": "code",
   "execution_count": null,
   "metadata": {},
   "outputs": [],
   "source": []
  }
 ],
 "metadata": {
  "kernelspec": {
   "display_name": "Python 3",
   "language": "python",
   "name": "python3"
  },
  "language_info": {
   "codemirror_mode": {
    "name": "ipython",
    "version": 3
   },
   "file_extension": ".py",
   "mimetype": "text/x-python",
   "name": "python",
   "nbconvert_exporter": "python",
   "pygments_lexer": "ipython3",
   "version": "3.7.3"
  }
 },
 "nbformat": 4,
 "nbformat_minor": 2
}
